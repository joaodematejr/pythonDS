{
 "cells": [
  {
   "cell_type": "code",
   "execution_count": 6,
   "metadata": {},
   "outputs": [
    {
     "data": {
      "image/png": "[encoded data removed]",
      "text/plain": [
       "<Figure size 432x288 with 1 Axes>"
      ]
     },
     "metadata": {
      "needs_background": "light"
     },
     "output_type": "display_data"
    }
   ],
   "source": [
    "import matplotlib.pyplot as plt\n",
    "\n",
    "#Visualização de dados com Python\n",
    "x1 = [1, 3, 5, 7, 9]\n",
    "y1 = [2, 3, 7, 1, 0]\n",
    "\n",
    "x2 = [2, 4, 6, 8, 10]\n",
    "y2 = [5, 1, 3, 7, 4]\n",
    "\n",
    "titulo = \"Grafico de Barra\"\n",
    "eixox = \"Eixo X\"\n",
    "eixoy = \"Eixo Y\"\n",
    "\n",
    "#Legendas \n",
    "plt.title(titulo, color='w')\n",
    "plt.xlabel(eixox, color='w')\n",
    "plt.ylabel(eixoy, color='w')\n",
    "\n",
    "plt.bar(x1, y1, label=\"Grupo 1\")\n",
    "plt.bar(x2, y2, label=\"Grupo 2\")\n",
    "plt.show()"
   ]
  },
  {
   "cell_type": "code",
   "execution_count": null,
   "metadata": {},
   "outputs": [],
   "source": []
  }
 ],
 "metadata": {
  "kernelspec": {
   "display_name": "Python 3",
   "language": "python",
   "name": "python3"
  },
  "language_info": {
   "codemirror_mode": {
    "name": "ipython",
    "version": 3
   },
   "file_extension": ".py",
   "mimetype": "text/x-python",
   "name": "python",
   "nbconvert_exporter": "python",
   "pygments_lexer": "ipython3",
   "version": "3.7.6"
  }
 },
 "nbformat": 4,
 "nbformat_minor": 4
}
