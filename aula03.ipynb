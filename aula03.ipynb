{
 "cells": [
  {
   "cell_type": "code",
   "execution_count": 1,
   "metadata": {},
   "outputs": [],
   "source": [
    "import matplotlib.pyplot as plt\n"
   ]
  },
  {
   "cell_type": "code",
   "execution_count": 37,
   "metadata": {},
   "outputs": [
    {
     "data": {
      "image/png": "[encoded data removed]",
      "text/plain": [
       "<Figure size 432x288 with 1 Axes>"
      ]
     },
     "metadata": {
      "needs_background": "light"
     },
     "output_type": "display_data"
    }
   ],
   "source": [
    "\n",
    "#Visualização de dados com Python\n",
    "x = [1, 3, 5, 7, 9]\n",
    "y = [2, 3, 7, 1, 0]\n",
    "z = [120, 905, 200, 433, 310]\n",
    "\n",
    "titulo = \"Scatterplot: Grafico de dispersão\"\n",
    "eixox = \"Eixo X\"\n",
    "eixoy = \"Eixo Y\"\n",
    "\n",
    "#Legendas \n",
    "plt.title(titulo, color='w')\n",
    "plt.xlabel(eixox, color='w')\n",
    "plt.ylabel(eixoy, color='w')\n",
    "\n",
    "plt.plot(x, y, color=\"#000\", linestyle=\"-.\")\n",
    "plt.scatter(x, y, label=\"Meus pontos\", color=\"#b71c1c\", marker=\".\", s=z)\n",
    "\n",
    "plt.legend()\n",
    "plt.show()"
   ]
  },
  {
   "cell_type": "code",
   "execution_count": null,
   "metadata": {},
   "outputs": [],
   "source": [
    "# Documentação oficial do Matplotlib\n",
    "# A seguir, alguns exemplos de argumentos que podem ser aplicados ao método plot( ).\n",
    "\n",
    "# color: cor (ver exemplos abaixo)\n",
    "\n",
    "# label: rótulo\n",
    "\n",
    "# linestyle: estilo de linha (ver exemplos abaixo)\n",
    "\n",
    "# linewidth: largura da linha\n",
    "\n",
    "# marker: marcador (ver exemplos abaixo)\n",
    "\n",
    "# CORES (color)\n",
    "# 'b' blue\n",
    "\n",
    "# 'g' green\n",
    "\n",
    "# 'r' red\n",
    "\n",
    "# 'c' cyan\n",
    "# \n",
    "# 'm' magenta\n",
    "# \n",
    "# 'y' yellow\n",
    "# \n",
    "# 'k' black\n",
    "# \n",
    "# 'w' white\n",
    "\n",
    "# Marcadores (marker)\n",
    "# '.' point marker\n",
    "# \n",
    "# ',' pixel marker\n",
    "# \n",
    "# 'o' circle marker\n",
    "# \n",
    "# 'v' triangle_down marker\n",
    "# \n",
    "# '^' triangle_up marker\n",
    "# \n",
    "# '<' triangle_left marker\n",
    "# \n",
    "# '>' triangle_right marker\n",
    "# \n",
    "# '1' tri_down marker\n",
    "# \n",
    "# '2' tri_up marker\n",
    "# \n",
    "# '3' tri_left marker\n",
    "# \n",
    "# '4' tri_right marker\n",
    "# \n",
    "# 's' square marker\n",
    "# \n",
    "# 'p' pentagon marker\n",
    "# \n",
    "# '*' star marker\n",
    "# \n",
    "# 'h' hexagon1 marker\n",
    "# \n",
    "# 'H' hexagon2 marker\n",
    "# \n",
    "# '+' plus marker\n",
    "# \n",
    "# 'x' x marker\n",
    "# \n",
    "# 'D' diamond marker\n",
    "# \n",
    "# 'd' thin_diamond marker\n",
    "# \n",
    "# '|' vline marker\n",
    "# \n",
    "# '_' hline marker\n",
    "\n",
    "# Tipos de linha (linestyle)\n",
    "# '-' solid line style\n",
    "# \n",
    "# '--' dashed line style\n",
    "# \n",
    "# '-.' dash-dot line style\n",
    "# \n",
    "# ':' dotted line style\n",
    "\n"
   ]
  }
 ],
 "metadata": {
  "kernelspec": {
   "display_name": "Python 3",
   "language": "python",
   "name": "python3"
  },
  "language_info": {
   "codemirror_mode": {
    "name": "ipython",
    "version": 3
   },
   "file_extension": ".py",
   "mimetype": "text/x-python",
   "name": "python",
   "nbconvert_exporter": "python",
   "pygments_lexer": "ipython3",
   "version": "3.7.6"
  }
 },
 "nbformat": 4,
 "nbformat_minor": 4
}
